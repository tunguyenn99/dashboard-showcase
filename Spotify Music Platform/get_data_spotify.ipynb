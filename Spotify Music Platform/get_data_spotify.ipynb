{
  "cells": [
    {
      "cell_type": "markdown",
      "metadata": {
        "id": "Ajsa-VoCy6ur"
      },
      "source": [
        "### Import Library"
      ]
    },
    {
      "cell_type": "code",
      "execution_count": null,
      "metadata": {
        "id": "nS6t5fQxy6uw"
      },
      "outputs": [],
      "source": [
        "import requests\n",
        "import pandas as pd\n",
        "from tqdm import tqdm"
      ]
    },
    {
      "cell_type": "markdown",
      "metadata": {
        "id": "DtmlTEeVy6uz"
      },
      "source": [
        "### Def functions"
      ]
    },
    {
      "cell_type": "code",
      "execution_count": null,
      "metadata": {
        "id": "4ha6TeZQy6u0"
      },
      "outputs": [],
      "source": [
        "#Function to get Spotify access token\n",
        "def get_spotify_token(client_id, client_secret):\n",
        "    auth_url = 'https://accounts.spotify.com/api/token'\n",
        "    auth_response = requests.post(auth_url, {\n",
        "        'grant_type': 'client_credentials',\n",
        "        'client_id': client_id,\n",
        "        'client_secret': client_secret,\n",
        "    })\n",
        "    auth_data = auth_response.json()\n",
        "    return auth_data['access_token']"
      ]
    },
    {
      "cell_type": "code",
      "execution_count": null,
      "metadata": {
        "id": "w3NvguZjy6u1"
      },
      "outputs": [],
      "source": [
        "#Function to search for a track and get its ID\n",
        "def search_track(track_name, artist_name, token):\n",
        "    query = f\"{track_name} artist:{artist_name}\"\n",
        "    url = f\"https://api.spotify.com/v1/search?q={query}&type=track\"\n",
        "    response = requests.get(url, headers={\n",
        "    'Authorization': f'Bearer {token}'\n",
        "    })\n",
        "    json_data = response.json()\n",
        "    try:\n",
        "        first_result = json_data['tracks']['items'][0]\n",
        "        track_id = first_result['id']\n",
        "        return track_id\n",
        "    except (KeyError, IndexError):\n",
        "        return None"
      ]
    },
    {
      "cell_type": "code",
      "execution_count": null,
      "metadata": {
        "id": "qsPFggZOy6u2"
      },
      "outputs": [],
      "source": [
        "#Function to get track details\n",
        "def get_track_details(track_id, token):\n",
        "    url = f\"https://api.spotify.com/v1/tracks/{track_id}\"\n",
        "    response = requests.get(url, headers={\n",
        "    'Authorization': f'Bearer {token}'\n",
        "    })\n",
        "    json_data = response.json()\n",
        "    image_url = json_data['album']['images'][0]['url']\n",
        "    return image_url"
      ]
    },
    {
      "cell_type": "code",
      "execution_count": null,
      "metadata": {
        "id": "nWWOL5ghy6u3",
        "outputId": "58cfa3f7-1912-45ad-eea8-1900f19887bd"
      },
      "outputs": [
        {
          "data": {
            "text/html": [
              "<div>\n",
              "<style scoped>\n",
              "    .dataframe tbody tr th:only-of-type {\n",
              "        vertical-align: middle;\n",
              "    }\n",
              "\n",
              "    .dataframe tbody tr th {\n",
              "        vertical-align: top;\n",
              "    }\n",
              "\n",
              "    .dataframe thead th {\n",
              "        text-align: right;\n",
              "    }\n",
              "</style>\n",
              "<table border=\"1\" class=\"dataframe\">\n",
              "  <thead>\n",
              "    <tr style=\"text-align: right;\">\n",
              "      <th></th>\n",
              "      <th>track_name</th>\n",
              "      <th>artist(s)_name</th>\n",
              "      <th>artist_count</th>\n",
              "      <th>released_year</th>\n",
              "      <th>released_month</th>\n",
              "      <th>released_day</th>\n",
              "      <th>in_spotify_playlists</th>\n",
              "      <th>in_spotify_charts</th>\n",
              "      <th>streams</th>\n",
              "      <th>in_apple_playlists</th>\n",
              "      <th>...</th>\n",
              "      <th>bpm</th>\n",
              "      <th>key</th>\n",
              "      <th>mode</th>\n",
              "      <th>danceability_%</th>\n",
              "      <th>valence_%</th>\n",
              "      <th>energy_%</th>\n",
              "      <th>acousticness_%</th>\n",
              "      <th>instrumentalness_%</th>\n",
              "      <th>liveness_%</th>\n",
              "      <th>speechiness_%</th>\n",
              "    </tr>\n",
              "  </thead>\n",
              "  <tbody>\n",
              "    <tr>\n",
              "      <th>0</th>\n",
              "      <td>Seven (feat. Latto) (Explicit Ver.)</td>\n",
              "      <td>Latto, Jung Kook</td>\n",
              "      <td>2</td>\n",
              "      <td>2023</td>\n",
              "      <td>7</td>\n",
              "      <td>14</td>\n",
              "      <td>553</td>\n",
              "      <td>147</td>\n",
              "      <td>141381703</td>\n",
              "      <td>43</td>\n",
              "      <td>...</td>\n",
              "      <td>125</td>\n",
              "      <td>B</td>\n",
              "      <td>Major</td>\n",
              "      <td>80</td>\n",
              "      <td>89</td>\n",
              "      <td>83</td>\n",
              "      <td>31</td>\n",
              "      <td>0</td>\n",
              "      <td>8</td>\n",
              "      <td>4</td>\n",
              "    </tr>\n",
              "    <tr>\n",
              "      <th>1</th>\n",
              "      <td>LALA</td>\n",
              "      <td>Myke Towers</td>\n",
              "      <td>1</td>\n",
              "      <td>2023</td>\n",
              "      <td>3</td>\n",
              "      <td>23</td>\n",
              "      <td>1474</td>\n",
              "      <td>48</td>\n",
              "      <td>133716286</td>\n",
              "      <td>48</td>\n",
              "      <td>...</td>\n",
              "      <td>92</td>\n",
              "      <td>C#</td>\n",
              "      <td>Major</td>\n",
              "      <td>71</td>\n",
              "      <td>61</td>\n",
              "      <td>74</td>\n",
              "      <td>7</td>\n",
              "      <td>0</td>\n",
              "      <td>10</td>\n",
              "      <td>4</td>\n",
              "    </tr>\n",
              "    <tr>\n",
              "      <th>2</th>\n",
              "      <td>vampire</td>\n",
              "      <td>Olivia Rodrigo</td>\n",
              "      <td>1</td>\n",
              "      <td>2023</td>\n",
              "      <td>6</td>\n",
              "      <td>30</td>\n",
              "      <td>1397</td>\n",
              "      <td>113</td>\n",
              "      <td>140003974</td>\n",
              "      <td>94</td>\n",
              "      <td>...</td>\n",
              "      <td>138</td>\n",
              "      <td>F</td>\n",
              "      <td>Major</td>\n",
              "      <td>51</td>\n",
              "      <td>32</td>\n",
              "      <td>53</td>\n",
              "      <td>17</td>\n",
              "      <td>0</td>\n",
              "      <td>31</td>\n",
              "      <td>6</td>\n",
              "    </tr>\n",
              "    <tr>\n",
              "      <th>3</th>\n",
              "      <td>Cruel Summer</td>\n",
              "      <td>Taylor Swift</td>\n",
              "      <td>1</td>\n",
              "      <td>2019</td>\n",
              "      <td>8</td>\n",
              "      <td>23</td>\n",
              "      <td>7858</td>\n",
              "      <td>100</td>\n",
              "      <td>800840817</td>\n",
              "      <td>116</td>\n",
              "      <td>...</td>\n",
              "      <td>170</td>\n",
              "      <td>A</td>\n",
              "      <td>Major</td>\n",
              "      <td>55</td>\n",
              "      <td>58</td>\n",
              "      <td>72</td>\n",
              "      <td>11</td>\n",
              "      <td>0</td>\n",
              "      <td>11</td>\n",
              "      <td>15</td>\n",
              "    </tr>\n",
              "    <tr>\n",
              "      <th>4</th>\n",
              "      <td>WHERE SHE GOES</td>\n",
              "      <td>Bad Bunny</td>\n",
              "      <td>1</td>\n",
              "      <td>2023</td>\n",
              "      <td>5</td>\n",
              "      <td>18</td>\n",
              "      <td>3133</td>\n",
              "      <td>50</td>\n",
              "      <td>303236322</td>\n",
              "      <td>84</td>\n",
              "      <td>...</td>\n",
              "      <td>144</td>\n",
              "      <td>A</td>\n",
              "      <td>Minor</td>\n",
              "      <td>65</td>\n",
              "      <td>23</td>\n",
              "      <td>80</td>\n",
              "      <td>14</td>\n",
              "      <td>63</td>\n",
              "      <td>11</td>\n",
              "      <td>6</td>\n",
              "    </tr>\n",
              "  </tbody>\n",
              "</table>\n",
              "<p>5 rows × 24 columns</p>\n",
              "</div>"
            ],
            "text/plain": [
              "                            track_name    artist(s)_name  artist_count  \\\n",
              "0  Seven (feat. Latto) (Explicit Ver.)  Latto, Jung Kook             2   \n",
              "1                                 LALA       Myke Towers             1   \n",
              "2                              vampire    Olivia Rodrigo             1   \n",
              "3                         Cruel Summer      Taylor Swift             1   \n",
              "4                       WHERE SHE GOES         Bad Bunny             1   \n",
              "\n",
              "   released_year  released_month  released_day  in_spotify_playlists  \\\n",
              "0           2023               7            14                   553   \n",
              "1           2023               3            23                  1474   \n",
              "2           2023               6            30                  1397   \n",
              "3           2019               8            23                  7858   \n",
              "4           2023               5            18                  3133   \n",
              "\n",
              "   in_spotify_charts    streams  in_apple_playlists  ...  bpm key   mode  \\\n",
              "0                147  141381703                  43  ...  125   B  Major   \n",
              "1                 48  133716286                  48  ...   92  C#  Major   \n",
              "2                113  140003974                  94  ...  138   F  Major   \n",
              "3                100  800840817                 116  ...  170   A  Major   \n",
              "4                 50  303236322                  84  ...  144   A  Minor   \n",
              "\n",
              "  danceability_%  valence_% energy_% acousticness_%  instrumentalness_%  \\\n",
              "0             80         89       83             31                   0   \n",
              "1             71         61       74              7                   0   \n",
              "2             51         32       53             17                   0   \n",
              "3             55         58       72             11                   0   \n",
              "4             65         23       80             14                  63   \n",
              "\n",
              "   liveness_%  speechiness_%  \n",
              "0           8              4  \n",
              "1          10              4  \n",
              "2          31              6  \n",
              "3          11             15  \n",
              "4          11              6  \n",
              "\n",
              "[5 rows x 24 columns]"
            ]
          },
          "execution_count": 12,
          "metadata": {},
          "output_type": "execute_result"
        }
      ],
      "source": [
        "#Test fetching\n",
        "pd.read_csv('spotify-2023.csv', encoding='ISO-8859-1').head()"
      ]
    },
    {
      "cell_type": "markdown",
      "metadata": {
        "id": "eai9812Wy6u8"
      },
      "source": [
        "### Implement def functions to get data and update current dataset"
      ]
    },
    {
      "cell_type": "code",
      "execution_count": null,
      "metadata": {
        "id": "VLxjt8Uqy6u9",
        "outputId": "dcef33f9-f38e-47f3-d7dd-f26e1da5eb39"
      },
      "outputs": [
        {
          "name": "stdout",
          "output_type": "stream",
          "text": [
            "<class 'pandas.core.frame.DataFrame'>\n",
            "RangeIndex: 953 entries, 0 to 952\n",
            "Data columns (total 24 columns):\n",
            " #   Column                Non-Null Count  Dtype \n",
            "---  ------                --------------  ----- \n",
            " 0   track_name            953 non-null    object\n",
            " 1   artist(s)_name        953 non-null    object\n",
            " 2   artist_count          953 non-null    int64 \n",
            " 3   released_year         953 non-null    int64 \n",
            " 4   released_month        953 non-null    int64 \n",
            " 5   released_day          953 non-null    int64 \n",
            " 6   in_spotify_playlists  953 non-null    int64 \n",
            " 7   in_spotify_charts     953 non-null    int64 \n",
            " 8   streams               953 non-null    object\n",
            " 9   in_apple_playlists    953 non-null    int64 \n",
            " 10  in_apple_charts       953 non-null    int64 \n",
            " 11  in_deezer_playlists   953 non-null    object\n",
            " 12  in_deezer_charts      953 non-null    int64 \n",
            " 13  in_shazam_charts      903 non-null    object\n",
            " 14  bpm                   953 non-null    int64 \n",
            " 15  key                   858 non-null    object\n",
            " 16  mode                  953 non-null    object\n",
            " 17  danceability_%        953 non-null    int64 \n",
            " 18  valence_%             953 non-null    int64 \n",
            " 19  energy_%              953 non-null    int64 \n",
            " 20  acousticness_%        953 non-null    int64 \n",
            " 21  instrumentalness_%    953 non-null    int64 \n",
            " 22  liveness_%            953 non-null    int64 \n",
            " 23  speechiness_%         953 non-null    int64 \n",
            "dtypes: int64(17), object(7)\n",
            "memory usage: 178.8+ KB\n"
          ]
        }
      ],
      "source": [
        "#Read DataFrame\n",
        "df_spotify = pd.read_csv('spotify-2023.csv', encoding='ISO-8859-1')\n",
        "df_spotify.info()"
      ]
    },
    {
      "cell_type": "code",
      "execution_count": null,
      "metadata": {
        "id": "AaCQ2sIxy6u-"
      },
      "outputs": [],
      "source": [
        "#Create vars\n",
        "client_id = '2bbe3bb1b0fc478db96cc9fae56ac487'\n",
        "client_secret = '57d20b2b97244700907dbd73757e358e'\n",
        "\n",
        "#Get Access Token\n",
        "access_token = get_spotify_token(client_id, client_secret)"
      ]
    },
    {
      "cell_type": "code",
      "execution_count": null,
      "metadata": {
        "id": "GDGckMdmy6u-",
        "outputId": "3e9f8cf3-4f8c-4a73-c460-56cdf745e11e"
      },
      "outputs": [
        {
          "name": "stderr",
          "output_type": "stream",
          "text": [
            "100%|██████████| 953/953 [06:28<00:00,  2.45it/s]  \n"
          ]
        }
      ],
      "source": [
        "#Loop through each row to get track details and add to DataFrame\n",
        "for i, row in tqdm(df_spotify.iterrows(), total=len(df_spotify)):\n",
        "    track_id = search_track(row['track_name'], row['artist(s)_name'], access_token)\n",
        "    if track_id:\n",
        "        image_url = get_track_details(track_id, access_token)\n",
        "        df_spotify.at[i, 'image_url'] = image_url"
      ]
    },
    {
      "cell_type": "code",
      "execution_count": null,
      "metadata": {
        "id": "lC1bcs2By6u_"
      },
      "outputs": [],
      "source": [
        "#Save the updated DataFrame\n",
        "df_spotify.to_csv('updated_file_spotify.csv', index=False)"
      ]
    }
  ],
  "metadata": {
    "kernelspec": {
      "display_name": "Python 3",
      "language": "python",
      "name": "python3"
    },
    "language_info": {
      "codemirror_mode": {
        "name": "ipython",
        "version": 3
      },
      "file_extension": ".py",
      "mimetype": "text/x-python",
      "name": "python",
      "nbconvert_exporter": "python",
      "pygments_lexer": "ipython3",
      "version": "3.11.2"
    },
    "colab": {
      "provenance": []
    }
  },
  "nbformat": 4,
  "nbformat_minor": 0
}